{
  "cells": [
    {
      "cell_type": "markdown",
      "metadata": {
        "id": "ytxEbDK7mzAp"
      },
      "source": [
        "## Filtering the data:\n",
        "\n",
        "The dataset I will be using: [link](https://www.kaggle.com/competitions/house-prices-advanced-regression-techniques/overview)\n",
        "\n",
        "Data Description: [link](https://www.kaggle.com/competitions/house-prices-advanced-regression-techniques/data)\n"
      ]
    },
    {
      "cell_type": "code",
      "execution_count": null,
      "metadata": {
        "id": "DUsaluUtmNGU"
      },
      "outputs": [],
      "source": [
        "import pandas as pd\n",
        "import numpy as np\n",
        "import pathlib  # We use pathlib.Path for cross-platform paths"
      ]
    },
    {
      "cell_type": "code",
      "execution_count": null,
      "metadata": {},
      "outputs": [],
      "source": [
        "### Constants\n",
        "_DATA_PATH = pathlib.Path(\"../data\") / 'lab-1'  # Note functionality of division operator (__truediv__) on Path objects\n",
        "_DATA_PATH"
      ]
    },
    {
      "cell_type": "code",
      "execution_count": null,
      "metadata": {},
      "outputs": [],
      "source": [
        "## Download data, if you don't already have it\n",
        "import kaggle\n",
        "kaggle.api.authenticate()\n",
        "kaggle.api.competition_download_files('house-prices-advanced-regression-techniques', path=_DATA_PATH)"
      ]
    },
    {
      "cell_type": "code",
      "execution_count": null,
      "metadata": {},
      "outputs": [],
      "source": [
        "# %%bash  # May need to edit this if you're on windows, just unzip to data dir\n",
        "# unzip ../data/lab-1/house-prices-advanced-regression-techniques.zip -d ../data/lab-1"
      ]
    },
    {
      "cell_type": "code",
      "execution_count": null,
      "metadata": {
        "colab": {
          "base_uri": "https://localhost:8080/",
          "height": 226
        },
        "id": "XFYwFWR9m9qG",
        "outputId": "026f626c-6553-4c13-83da-c1949575bb46"
      },
      "outputs": [],
      "source": [
        "# read the dataset\n",
        "df = pd.read_csv(_DATA_PATH/'train.csv', index_col=\"Id\")\n",
        "df.head()"
      ]
    },
    {
      "cell_type": "code",
      "execution_count": null,
      "metadata": {
        "id": "alULo_-Am9n-"
      },
      "outputs": [],
      "source": [
        "# show all the columns\n",
        "pd.set_option('display.max_columns', None)"
      ]
    },
    {
      "cell_type": "code",
      "execution_count": null,
      "metadata": {
        "colab": {
          "base_uri": "https://localhost:8080/",
          "height": 226
        },
        "id": "AP82vl-HoN6v",
        "outputId": "bdc0fedd-13e3-4aff-c9a6-508735d7aab9"
      },
      "outputs": [],
      "source": [
        "# see the first 5 records\n",
        "df.head()"
      ]
    },
    {
      "cell_type": "code",
      "execution_count": null,
      "metadata": {
        "colab": {
          "base_uri": "https://localhost:8080/"
        },
        "id": "acwUilpbRuJu",
        "outputId": "9b5f0935-a565-4d10-8b36-9821d2e8e567"
      },
      "outputs": [],
      "source": [
        "# are there any duplicates?\n",
        "df.duplicated().sum()"
      ]
    },
    {
      "cell_type": "code",
      "execution_count": null,
      "metadata": {
        "colab": {
          "base_uri": "https://localhost:8080/"
        },
        "id": "Dw5DIqmYShfW",
        "outputId": "bb4551c2-345e-4d25-93a2-18245f1f0590"
      },
      "outputs": [],
      "source": [
        "# do we have any duplicates in Id? What about Neighborhood?\n",
        "df.duplicated(subset=['Neighborhood']).sum()"
      ]
    },
    {
      "cell_type": "code",
      "execution_count": null,
      "metadata": {
        "colab": {
          "base_uri": "https://localhost:8080/",
          "height": 217
        },
        "id": "gaj5O5SvS25W",
        "outputId": "2c21c19d-7c75-4d26-ff20-d29e87e08eb5"
      },
      "outputs": [],
      "source": [
        "# remove duplicates in Neighborhood by keeping only the first record for each\n",
        "# Neighborhood and view the new dataset\n",
        "# do not over-write the dataframe\n",
        "df.drop_duplicates(subset=['Neighborhood'], keep='first').Neighborhood"
      ]
    },
    {
      "cell_type": "code",
      "execution_count": null,
      "metadata": {},
      "outputs": [],
      "source": [
        "# Alt, we can just use unique() again...\n",
        "df['Neighborhood'].unique()"
      ]
    },
    {
      "cell_type": "code",
      "execution_count": null,
      "metadata": {},
      "outputs": [],
      "source": [
        "assert [x in df['Neighborhood'].unique() for x in df.drop_duplicates(subset=['Neighborhood'], keep='first').Neighborhood]"
      ]
    },
    {
      "cell_type": "code",
      "execution_count": null,
      "metadata": {
        "colab": {
          "base_uri": "https://localhost:8080/"
        },
        "id": "J1iFb0gboPct",
        "outputId": "4fb5be26-49cb-4420-96e9-480cc04e2c48"
      },
      "outputs": [],
      "source": [
        "# How many listings do we have?\n",
        "len(df)"
      ]
    },
    {
      "cell_type": "code",
      "execution_count": null,
      "metadata": {
        "colab": {
          "base_uri": "https://localhost:8080/"
        },
        "id": "ovlncg2aGW-5",
        "outputId": "0ea8fa35-256b-4632-bd82-1906a950004d"
      },
      "outputs": [],
      "source": [
        "# How many columns do we have?\n",
        "len(df.columns)"
      ]
    },
    {
      "cell_type": "code",
      "execution_count": null,
      "metadata": {
        "colab": {
          "base_uri": "https://localhost:8080/"
        },
        "id": "sSj7fQ1LbiP0",
        "outputId": "3c3b2f3a-88d7-451b-c3ac-7a25859556d8"
      },
      "outputs": [],
      "source": [
        "# use .shape to see the column and rows length\n",
        "print(\"The data size is : {} \".format(df.shape))"
      ]
    },
    {
      "cell_type": "code",
      "execution_count": null,
      "metadata": {
        "colab": {
          "base_uri": "https://localhost:8080/"
        },
        "id": "4Mn_N9qvEG_T",
        "outputId": "8578fcd2-9da3-446b-dc37-f91a68060bb8"
      },
      "outputs": [],
      "source": [
        "# take a look at the datatypes\n",
        "df.dtypes"
      ]
    },
    {
      "cell_type": "code",
      "execution_count": null,
      "metadata": {
        "colab": {
          "base_uri": "https://localhost:8080/",
          "height": 320
        },
        "id": "C8aX2iuBdS7b",
        "outputId": "b14fb5e0-428f-4d9f-f002-6c8f1d1a182a"
      },
      "outputs": [],
      "source": [
        "# get some stats in\n",
        "df.describe()"
      ]
    },
    {
      "cell_type": "code",
      "execution_count": null,
      "metadata": {
        "colab": {
          "base_uri": "https://localhost:8080/"
        },
        "id": "nf5E0Q9OeCGV",
        "outputId": "31139d12-1e8b-4d92-a6ff-b43372ba145a"
      },
      "outputs": [],
      "source": [
        "# describe only the SalePrice\n",
        "df['SalePrice'].describe()"
      ]
    },
    {
      "cell_type": "code",
      "execution_count": null,
      "metadata": {
        "id": "AJOszbYVGN3a"
      },
      "outputs": [],
      "source": [
        "# Convert 'YearBuilt' type to int\n",
        "df['YearBuilt'] = pd.to_numeric(df['YearBuilt'], errors='coerce')"
      ]
    },
    {
      "cell_type": "code",
      "execution_count": null,
      "metadata": {
        "colab": {
          "base_uri": "https://localhost:8080/",
          "height": 132
        },
        "id": "KXm95lGto06_",
        "outputId": "240852e2-32dc-46d7-e20a-a8413c874fc4"
      },
      "outputs": [],
      "source": [
        "# which are the oldest houses?\n",
        "df.sort_values('YearBuilt').head(2)"
      ]
    },
    {
      "cell_type": "code",
      "execution_count": null,
      "metadata": {
        "colab": {
          "base_uri": "https://localhost:8080/",
          "height": 1000
        },
        "id": "fI1qliICo041",
        "outputId": "3f6be40b-f1db-463b-ad65-4da51acfd3e4"
      },
      "outputs": [],
      "source": [
        "# take a look at only one neighborhood (NoRidge)\n",
        "df[df.Neighborhood == 'NoRidge']"
      ]
    },
    {
      "cell_type": "code",
      "execution_count": null,
      "metadata": {
        "colab": {
          "base_uri": "https://localhost:8080/",
          "height": 1000
        },
        "id": "0_S4YXg8o02q",
        "outputId": "12a36ddc-a6ed-4c71-c8d5-6e0f6293590d"
      },
      "outputs": [],
      "source": [
        "# take a look at only another neighborhood (NoRidge)\n",
        "df[df.Neighborhood == 'Crawfor']"
      ]
    },
    {
      "cell_type": "code",
      "execution_count": null,
      "metadata": {
        "colab": {
          "base_uri": "https://localhost:8080/"
        },
        "id": "BIDAsILmrohf",
        "outputId": "f85d322e-9f95-414c-adaa-94d250282177"
      },
      "outputs": [],
      "source": [
        "# how many houses are there in this neighborhood?\n",
        "len(df[df.Neighborhood == 'Crawfor'])"
      ]
    },
    {
      "cell_type": "code",
      "execution_count": null,
      "metadata": {
        "colab": {
          "base_uri": "https://localhost:8080/",
          "height": 132
        },
        "id": "75_Pbto8o00g",
        "outputId": "eea163ab-1bab-46aa-b127-1abeb386bb0d"
      },
      "outputs": [],
      "source": [
        "# first house that was built in NoRidge neighborhood\n",
        "df[df.Neighborhood == 'NoRidge'].sort_values('YearBuilt').head(2)"
      ]
    },
    {
      "cell_type": "code",
      "execution_count": null,
      "metadata": {
        "colab": {
          "base_uri": "https://localhost:8080/",
          "height": 132
        },
        "id": "Ya5Gvb-Eo0zE",
        "outputId": "808334bc-a107-4f51-ec03-603ff83c835b"
      },
      "outputs": [],
      "source": [
        "# first house that was built in NoRidge neighborhood\n",
        "df[df.Neighborhood == 'NoRidge'].sort_values('YearBuilt', ascending=False).head(2)"
      ]
    },
    {
      "cell_type": "code",
      "execution_count": null,
      "metadata": {
        "colab": {
          "base_uri": "https://localhost:8080/",
          "height": 571
        },
        "id": "jApD3za_o0wn",
        "outputId": "c7fabd50-5129-4d88-d72b-2d76f0d7b522"
      },
      "outputs": [],
      "source": [
        "# Let's take a look at the NoRidge neighborhood for houses that\n",
        "# were remodelled after 1998\n",
        "df_noridge = df[df.Neighborhood == 'NoRidge']\n",
        "df_noridge[df_noridge.YearRemodAdd >= 1998]"
      ]
    },
    {
      "cell_type": "code",
      "execution_count": null,
      "metadata": {
        "colab": {
          "base_uri": "https://localhost:8080/",
          "height": 571
        },
        "id": "Gerkp6Two0ue",
        "outputId": "32e70c66-eda1-467e-af5d-a0ad8e896a48"
      },
      "outputs": [],
      "source": [
        "# another way of doing this?\n",
        "df[(df.Neighborhood == 'NoRidge') & (df.YearRemodAdd >= 1998)]"
      ]
    },
    {
      "cell_type": "code",
      "execution_count": null,
      "metadata": {
        "colab": {
          "base_uri": "https://localhost:8080/"
        },
        "id": "CV6mUQE6s6Ng",
        "outputId": "c90accab-8943-4f6f-e2eb-bf288dfaecaa"
      },
      "outputs": [],
      "source": [
        "# How many houses were built from 1950 through 1959?\n",
        "len(df[(df.YearBuilt >= 1950) & (df.YearBuilt <= 1959)])"
      ]
    },
    {
      "cell_type": "code",
      "execution_count": null,
      "metadata": {
        "colab": {
          "base_uri": "https://localhost:8080/"
        },
        "id": "qXruz_1_yiQ-",
        "outputId": "587cddfe-e2ae-49be-96ab-747fcf628797"
      },
      "outputs": [],
      "source": [
        "# another way of doing this?\n",
        "len(df[df.YearBuilt // 10 == 195])"
      ]
    },
    {
      "cell_type": "code",
      "execution_count": null,
      "metadata": {
        "colab": {
          "base_uri": "https://localhost:8080/"
        },
        "id": "t9s83Vjv3e3R",
        "outputId": "2cae7c44-a067-430f-c5a1-e22d36b61165"
      },
      "outputs": [],
      "source": [
        "# how many fireplaces can a house have?\n",
        "df.Fireplaces.unique()"
      ]
    },
    {
      "cell_type": "code",
      "execution_count": null,
      "metadata": {
        "colab": {
          "base_uri": "https://localhost:8080/"
        },
        "id": "qCV0hS7331YT",
        "outputId": "acbe9f3f-642f-4e1d-e699-435dec5a1865"
      },
      "outputs": [],
      "source": [
        "# how many types of kitchen quality do we have?\n",
        "df.KitchenQual.unique()"
      ]
    },
    {
      "cell_type": "code",
      "execution_count": null,
      "metadata": {
        "colab": {
          "base_uri": "https://localhost:8080/"
        },
        "id": "3tJvH6P231Rw",
        "outputId": "690111eb-8bd2-41e6-958a-c9b2f4a2ea49"
      },
      "outputs": [],
      "source": [
        "# how many types of heating do we have?\n",
        "df.Heating.unique()"
      ]
    },
    {
      "cell_type": "code",
      "execution_count": null,
      "metadata": {
        "colab": {
          "base_uri": "https://localhost:8080/"
        },
        "id": "PBkcIURD5hwS",
        "outputId": "02236930-abde-4ab6-d187-efeedd397f59"
      },
      "outputs": [],
      "source": [
        "# how to view only houses that are heated by gas?\n",
        "df[df.Heating.str.contains('Gas')].Heating"
      ]
    },
    {
      "cell_type": "code",
      "execution_count": null,
      "metadata": {
        "colab": {
          "base_uri": "https://localhost:8080/"
        },
        "id": "xMlTYwh05huY",
        "outputId": "322698fa-0297-4aab-c969-4e6660820d0e"
      },
      "outputs": [],
      "source": [
        "# using lambda and a function change 2Story to 2Storey and 1Story to 1Storey\n",
        "\n",
        "# see what the values are in this column\n",
        "print('before modification values are: ',  df.HouseStyle.unique())\n",
        "\n",
        "# create a function that can change this value\n",
        "def change_spelling(style_name):\n",
        "    \"\"\"\n",
        "    changes the spelling of story to storey in a string\n",
        "    input: string\n",
        "    output: modified name of the style\n",
        "    \"\"\"\n",
        "    if style_name == '2Story': return '2Storey'\n",
        "    elif style_name == '1Story': return '1Storey'\n",
        "    else: return style_name\n",
        "\n",
        "# apply the changes on HouseStyle\n",
        "df.loc[:, 'HouseStyle'] = df.loc[:, 'HouseStyle'].apply(lambda x: change_spelling(x))\n",
        "\n",
        "# print the new values\n",
        "print('after the modification values are: ',  df.HouseStyle.unique())"
      ]
    },
    {
      "cell_type": "markdown",
      "metadata": {
        "id": "J2_D7-AA0ALA"
      },
      "source": [
        "## Your turn...\n",
        "\n",
        "Dataset: [link](https://www.kaggle.com/datasets/harshitshankhdhar/imdb-dataset-of-top-1000-movies-and-tv-shows)"
      ]
    },
    {
      "cell_type": "code",
      "execution_count": null,
      "metadata": {},
      "outputs": [],
      "source": [
        "# Optional download using kaggle api, can do manually too\n",
        "dataset_name = \"harshitshankhdhar/imdb-dataset-of-top-1000-movies-and-tv-shows\"\n",
        "kaggle.api.dataset_download_files(dataset_name, path=_DATA_PATH, unzip=True)"
      ]
    },
    {
      "cell_type": "code",
      "execution_count": null,
      "metadata": {
        "id": "9mC9iDdwzO-X"
      },
      "outputs": [],
      "source": [
        "# Read the dataset\n",
        "df = pd.read_csv(_DATA_PATH/'imdb_top_1000.csv', index_col=\"Poster_Link\")"
      ]
    },
    {
      "cell_type": "code",
      "execution_count": null,
      "metadata": {
        "colab": {
          "base_uri": "https://localhost:8080/",
          "height": 466
        },
        "id": "ep9ztIx7f6cX",
        "outputId": "080f1714-dcde-4f58-c3a6-eda6a1ed12aa"
      },
      "outputs": [],
      "source": [
        "# see the first few records\n",
        "df.head()"
      ]
    },
    {
      "cell_type": "code",
      "execution_count": null,
      "metadata": {
        "colab": {
          "base_uri": "https://localhost:8080/"
        },
        "id": "jXP0DGAt0Hwm",
        "outputId": "2f019333-cab8-4f85-d69f-d4f2d9229a31"
      },
      "outputs": [],
      "source": [
        "# How many movies are there?\n",
        "df.shape[0]"
      ]
    },
    {
      "cell_type": "code",
      "execution_count": null,
      "metadata": {
        "colab": {
          "base_uri": "https://localhost:8080/"
        },
        "id": "jubUWqkKSIXt",
        "outputId": "bf850011-7d8f-40d0-a84b-125c88f4ac0c"
      },
      "outputs": [],
      "source": [
        "# How many columns do we have?\n",
        "df.shape[1]"
      ]
    },
    {
      "cell_type": "code",
      "execution_count": null,
      "metadata": {
        "colab": {
          "base_uri": "https://localhost:8080/"
        },
        "id": "s0uAk4q8SHQj",
        "outputId": "5060da94-1386-46f7-8e52-fb516ffb1ed0"
      },
      "outputs": [],
      "source": [
        "# Are there any duplicates?\n",
        "df.duplicated().sum()"
      ]
    },
    {
      "cell_type": "code",
      "execution_count": null,
      "metadata": {
        "colab": {
          "base_uri": "https://localhost:8080/"
        },
        "id": "SJnAz1J6Ubwk",
        "outputId": "041004d1-2bbf-4cb0-88c9-8acc0badd168"
      },
      "outputs": [],
      "source": [
        "# Are there any duplicates in the Released_Year column?\n",
        "df.duplicated(subset=['Released_Year']).sum()"
      ]
    },
    {
      "cell_type": "code",
      "execution_count": null,
      "metadata": {
        "colab": {
          "base_uri": "https://localhost:8080/"
        },
        "id": "glnGxCXgEwn5",
        "outputId": "2507cad8-94c0-4bea-8f41-aeecde783797"
      },
      "outputs": [],
      "source": [
        "# Take a look at the datatypes\n",
        "df.dtypes"
      ]
    },
    {
      "cell_type": "code",
      "execution_count": null,
      "metadata": {
        "colab": {
          "base_uri": "https://localhost:8080/"
        },
        "id": "qvnev57QFGpZ",
        "outputId": "26ae8e41-a56f-4db2-e1bc-b5bbea8e5d2a"
      },
      "outputs": [],
      "source": [
        "# Convert 'Released_Year' to int\n",
        "df['Released_Year'] = pd.to_numeric(df['Released_Year'], errors='coerce')\n",
        "df['Released_Year'] = df['Released_Year'].astype('Int64')\n",
        "\n",
        "# Convert 'Gross' to float\n",
        "df['Gross'] = pd.to_numeric(df['Gross'], errors='coerce')\n",
        "df['Gross'] = df['Gross'].astype(float)\n",
        "\n",
        "# Now, you can check the data types of your DataFrame\n",
        "df.dtypes\n"
      ]
    },
    {
      "cell_type": "code",
      "execution_count": null,
      "metadata": {
        "colab": {
          "base_uri": "https://localhost:8080/",
          "height": 115
        },
        "id": "fvT3mXkz0Hs0",
        "outputId": "ebc8632e-c4bb-414e-8f0e-7fe66e35ea5d"
      },
      "outputs": [],
      "source": [
        "# take a look at the record for Fight Club\n",
        "df[df.Series_Title == 'Fight Club']"
      ]
    },
    {
      "cell_type": "code",
      "execution_count": null,
      "metadata": {
        "colab": {
          "base_uri": "https://localhost:8080/",
          "height": 1000
        },
        "id": "_8gjF5C-D4KK",
        "outputId": "18b94ef1-b5eb-410a-db76-a1bbf2259885"
      },
      "outputs": [],
      "source": [
        "# which are the movies released after the year 2000?\n",
        "df[df.Released_Year > 2000]\n"
      ]
    },
    {
      "cell_type": "code",
      "execution_count": null,
      "metadata": {
        "colab": {
          "base_uri": "https://localhost:8080/",
          "height": 216
        },
        "id": "HuHR_xFQ4kIx",
        "outputId": "81e70302-5b63-49cb-8297-60a2f9ce59ba"
      },
      "outputs": [],
      "source": [
        "# which are the 2 most famouse ones? (look at the number of votes!)\n",
        "df.sort_values('No_of_Votes', ascending=False).head(2)"
      ]
    },
    {
      "cell_type": "code",
      "execution_count": null,
      "metadata": {
        "colab": {
          "base_uri": "https://localhost:8080/",
          "height": 466
        },
        "id": "-h_GRrAt0Hqv",
        "outputId": "2607f37f-cae4-4285-d0c2-75ff9b92c26a"
      },
      "outputs": [],
      "source": [
        "# look at the oldest movie in this dataset. How to see the latest?\n",
        "df.sort_values('Released_Year').head(1)"
      ]
    },
    {
      "cell_type": "code",
      "execution_count": null,
      "metadata": {
        "colab": {
          "base_uri": "https://localhost:8080/"
        },
        "id": "TGK3cII6ZFSY",
        "outputId": "a5d0ff84-bb7a-41a7-b759-da79e312c045"
      },
      "outputs": [],
      "source": [
        "# Group the movies based on the first actor and sort by the number of movies they have played in\n"
      ]
    },
    {
      "cell_type": "code",
      "execution_count": null,
      "metadata": {
        "colab": {
          "base_uri": "https://localhost:8080/"
        },
        "id": "dIB-SGid2hdi",
        "outputId": "9784456f-2f6b-4999-f981-7a0add3e532c"
      },
      "outputs": [],
      "source": [
        "# What are the Certificate types?\n"
      ]
    },
    {
      "cell_type": "code",
      "execution_count": null,
      "metadata": {
        "colab": {
          "base_uri": "https://localhost:8080/",
          "height": 288
        },
        "id": "7k5mI8K12hbb",
        "outputId": "e46fd0c1-6eb5-4aad-fd12-c07ab55ef479"
      },
      "outputs": [],
      "source": [
        "# Which movie descriptions have NASA in their Overview?\n"
      ]
    },
    {
      "cell_type": "code",
      "execution_count": null,
      "metadata": {
        "id": "-B7HmzKu7s1Y"
      },
      "outputs": [],
      "source": [
        "# Create a function that changes \"The Dark Knight\" movie name to \"Batman\" in the Series_Title\n",
        "\n",
        "def change_spelling(name):\n",
        "    \"\"\"\n",
        "    changing name of The Dark Knight to Batman\n",
        "    \"\"\"\n",
        "\n",
        "\n",
        "\n",
        "# Apply the changes on Series_Title\n"
      ]
    },
    {
      "cell_type": "code",
      "execution_count": null,
      "metadata": {
        "colab": {
          "base_uri": "https://localhost:8080/"
        },
        "id": "B0jKz0pN9AH6",
        "outputId": "a5e0ab37-9300-4ea7-cf73-2af0e7fac424"
      },
      "outputs": [],
      "source": [
        "# Print the 'Series_Title' in df_movies to see the value has changed\n"
      ]
    },
    {
      "cell_type": "code",
      "execution_count": null,
      "metadata": {},
      "outputs": [],
      "source": [
        "## First half of lab 1 ends here. We will pick up with the rest of this notebook on Jan. 26"
      ]
    },
    {
      "cell_type": "markdown",
      "metadata": {
        "id": "j_XVdOdtITEm"
      },
      "source": [
        "### Visualization"
      ]
    },
    {
      "cell_type": "code",
      "execution_count": null,
      "metadata": {
        "id": "9clFkwKfISR7"
      },
      "outputs": [],
      "source": [
        "import matplotlib.pyplot as plt\n",
        "import seaborn as sns"
      ]
    },
    {
      "cell_type": "code",
      "execution_count": null,
      "metadata": {
        "colab": {
          "base_uri": "https://localhost:8080/",
          "height": 443
        },
        "id": "af5meQiUpSaJ",
        "outputId": "22cfa843-a3e8-44a1-c891-8093a380cb6f"
      },
      "outputs": [],
      "source": [
        "# data manipulation\n",
        "# create a column called decade that has the decade in which the house was built\n",
        "df.loc[:, 'decade'] = df.YearBuilt // 10 * 10\n",
        "df"
      ]
    },
    {
      "cell_type": "code",
      "execution_count": null,
      "metadata": {
        "colab": {
          "base_uri": "https://localhost:8080/",
          "height": 489
        },
        "id": "tLLG_F62olzV",
        "outputId": "79ba3415-29c0-4a98-e485-8d8ad08f87e1"
      },
      "outputs": [],
      "source": [
        "# Using groupby(), plot the number of houses built each decade\n",
        "\n",
        "df.groupby(by='decade').size().plot(kind='bar')"
      ]
    },
    {
      "cell_type": "code",
      "execution_count": null,
      "metadata": {
        "colab": {
          "base_uri": "https://localhost:8080/",
          "height": 489
        },
        "id": "Z_GRiMfholwb",
        "outputId": "4deb338f-c73b-498b-e742-0d117e4fe589"
      },
      "outputs": [],
      "source": [
        "# Using groupby(), plot the number of 2Storey houses built each decade\n",
        "\n",
        "df_2storey = df[df['HouseStyle']=='2Storey'].reset_index(drop=True)\n",
        "df_2storey\n",
        "df_2storey.groupby(by='decade').size().plot(kind='bar')"
      ]
    },
    {
      "cell_type": "markdown",
      "metadata": {
        "id": "0r3bq_M2xRrR"
      },
      "source": [
        "### df.corr()\n",
        "\n",
        "The correlation matrix is a square matrix that displays the pairwise correlations between all numeric columns in the DataFrame. It is a valuable tool for understanding the relationships and dependencies between different variables in your dataset.\n",
        "\n",
        "The correlation coefficient, which ranges from -1 to 1, quantifies the strength and direction of the linear relationship between two variables:\n",
        "\n",
        "A value of 1 indicates a perfect positive linear correlation, meaning that as one variable increases, the other also increases proportionally.\n",
        "A value of -1 indicates a perfect negative linear correlation, meaning that as one variable increases, the other decreases proportionally.\n",
        "A value close to 0 indicates a weak or no linear correlation between the variables."
      ]
    },
    {
      "cell_type": "code",
      "execution_count": null,
      "metadata": {
        "colab": {
          "base_uri": "https://localhost:8080/",
          "height": 920
        },
        "id": "uI8te1Q5w_xW",
        "outputId": "70ab9cd7-78f2-4083-cf27-cf43c4293d9b"
      },
      "outputs": [],
      "source": [
        "# Correlation map to see how features are correlated with SalePrice\n",
        "corrmat = df.corr()\n",
        "plt.subplots(figsize=(12,9))\n",
        "sns.heatmap(corrmat, vmax=0.9, square=True, cmap='coolwarm')"
      ]
    },
    {
      "cell_type": "code",
      "execution_count": null,
      "metadata": {
        "colab": {
          "base_uri": "https://localhost:8080/",
          "height": 453
        },
        "id": "CPCXytrxb-KL",
        "outputId": "4a263855-aa8c-424e-87af-fd0bc58ad532"
      },
      "outputs": [],
      "source": [
        "# plot GrLivArea against SalePrice\n",
        "# do you see anything out of the ordinary?\n",
        "fig, ax = plt.subplots()\n",
        "ax.scatter(x = df['GrLivArea'], y = df['SalePrice'])\n",
        "plt.ylabel('SalePrice', fontsize=13)\n",
        "plt.xlabel('GrLivArea', fontsize=13)\n",
        "plt.show()"
      ]
    },
    {
      "cell_type": "code",
      "execution_count": null,
      "metadata": {
        "colab": {
          "base_uri": "https://localhost:8080/",
          "height": 453
        },
        "id": "YjH2sB4EcG0-",
        "outputId": "653e8d19-24a3-448b-fb1e-c9c0c3a47b8a"
      },
      "outputs": [],
      "source": [
        "#Deleting outliers\n",
        "df = df.drop(df[df['GrLivArea']>4000].index)\n",
        "\n",
        "fig, ax = plt.subplots()\n",
        "ax.scatter(df['GrLivArea'], df['SalePrice'])\n",
        "plt.ylabel('SalePrice', fontsize=13)\n",
        "plt.xlabel('GrLivArea', fontsize=13)\n",
        "plt.show()"
      ]
    },
    {
      "cell_type": "markdown",
      "metadata": {
        "id": "ndovt3_Xnjvi"
      },
      "source": [
        " ### displot (short for \"distribution plot\")\n",
        "\n",
        " This is a function used to visualize the univariate distribution of a dataset. It allows you to plot the distribution of a single continuous variable, providing insights into its underlying data distribution, including the shape, central tendency, and spread of the data.\n",
        "\n",
        " **data** is the data you want to visualize. It can be a Pandas Series, NumPy array, or a list containing your dataset.\n",
        "\n",
        "**bins** (optional) controls the number of bins or intervals into which the data is divided for the histogram. More bins provide finer granularity.\n",
        "\n",
        "**kde** (optional) stands for \"Kernel Density Estimation\" and is a way to estimate the probability density function of the data. Setting it to True adds a smoothed curve to the plot, which can provide additional insights into the data's distribution.\n"
      ]
    },
    {
      "cell_type": "code",
      "execution_count": null,
      "metadata": {
        "colab": {
          "base_uri": "https://localhost:8080/",
          "height": 506
        },
        "id": "SIyrJvEQnZtE",
        "outputId": "4ba064ef-6b42-4fee-d967-06bfb2a03d79"
      },
      "outputs": [],
      "source": [
        "# let's make a histogram for sales\n",
        "sns.displot(df['SalePrice'], kde=True)"
      ]
    },
    {
      "cell_type": "markdown",
      "metadata": {
        "id": "WIV5fpg6fv7L"
      },
      "source": [
        "The catplot function is a powerful and flexible way to create categorical plots. Categorical plots are used to visualize the distribution of one variable within different categories or the relationship between two categorical variables."
      ]
    },
    {
      "cell_type": "code",
      "execution_count": null,
      "metadata": {
        "colab": {
          "base_uri": "https://localhost:8080/",
          "height": 523
        },
        "id": "JLSjtjjeIU2A",
        "outputId": "de221ccc-6ff9-4706-b12a-d4e5e2f412ca"
      },
      "outputs": [],
      "source": [
        "feature = 'OverallQual' # add the name of the column to this list - 'MoSold'\n",
        "\n",
        "sns.set_style('whitegrid')\n",
        "sns.catplot(x=feature, kind=\"count\", palette=\"PuRd_r\", data=df)"
      ]
    },
    {
      "cell_type": "markdown",
      "metadata": {
        "id": "CBkERkuR-nK6"
      },
      "source": [
        "### Your Turn"
      ]
    },
    {
      "cell_type": "code",
      "execution_count": null,
      "metadata": {
        "colab": {
          "base_uri": "https://localhost:8080/",
          "height": 1000
        },
        "id": "JK06JEUx-qEW",
        "outputId": "d469b227-bf18-46ac-faed-6b0f3784f0df"
      },
      "outputs": [],
      "source": [
        "# Create a column called decade that has the decade in which the house was built\n"
      ]
    },
    {
      "cell_type": "code",
      "execution_count": null,
      "metadata": {
        "colab": {
          "base_uri": "https://localhost:8080/",
          "height": 488
        },
        "id": "h3sI8LGW-p_x",
        "outputId": "19e577f9-60d2-4892-f6f1-2c9e77ba769a"
      },
      "outputs": [],
      "source": [
        "# Using groupby(), plot the number of movies that have been made each decade in the history of cinema.\n",
        "\n"
      ]
    },
    {
      "cell_type": "code",
      "execution_count": null,
      "metadata": {
        "colab": {
          "base_uri": "https://localhost:8080/",
          "height": 828
        },
        "id": "bRVBE1xUxZV3",
        "outputId": "25a6e5cc-82b4-46b4-c7e8-9de9e7377313"
      },
      "outputs": [],
      "source": [
        "# Build the correlation matrix and plot it with seaborn to see how features are correlated with SalePrice\n"
      ]
    },
    {
      "cell_type": "code",
      "execution_count": null,
      "metadata": {
        "colab": {
          "base_uri": "https://localhost:8080/",
          "height": 524
        },
        "id": "MI3uDgvf_Frh",
        "outputId": "0a750055-d602-4acc-944a-fc6b5eec7ff2"
      },
      "outputs": [],
      "source": [
        "# Provide the histogram of No_of_Votes\n"
      ]
    },
    {
      "cell_type": "markdown",
      "metadata": {
        "id": "OZrJW9e2JpcH"
      },
      "source": [
        " ## Missing Values\n",
        " When handling these null values we have to divide them into three categories. [Reference](https://cjasn.asnjournals.org/content/9/7/1328.abstract)\n",
        "\n",
        "\n",
        "![pic](https://github.com/mitramir55/teaching_material/blob/master/missing%20values.png?raw=true)\n",
        "\n",
        "\n",
        "**Missing Completely at Random (MCAR):** This means that there is no relationship between the missing values themselves and any other feature or observation in the dataset. These are just missing randomly and without any pattern. Like when a questionnaire is lost or some parts of a survey paper are soaked and you cannot read what it's saying. Therefore we can simply ignore them.\n",
        "\n",
        "**Missing at Random (MAR):** Means there is a pattern and relationship between the missing values and the observed values, like when the survey is about mental and physical health, male participants are less likely to know their waist circumference or boob size. We can again ignore these missing values and drop the feature or examples from our dataset. In this case we say that missing values are only related to the observed features (gender).\n",
        "\n",
        "**Missing Not at Random (MNAR):** This is a missing value that cannot and should not be ignored. We have to model and see when were the values missing and what was the reason for it. For instance, men might not answer questions about depression because of their depression. In this case we say that the missing values are related to themselves (depression) as well as to the observed features (gender)."
      ]
    },
    {
      "cell_type": "code",
      "execution_count": null,
      "metadata": {
        "colab": {
          "base_uri": "https://localhost:8080/"
        },
        "id": "ppyIVO_J2hZX",
        "outputId": "7f95a9c4-b023-4492-9842-4af7644de0c9"
      },
      "outputs": [],
      "source": [
        "# How to see the total number of null values?\n",
        "df.isnull().sum()"
      ]
    },
    {
      "cell_type": "code",
      "execution_count": null,
      "metadata": {
        "colab": {
          "base_uri": "https://localhost:8080/"
        },
        "id": "rVIch_Mry9NP",
        "outputId": "f5ed37fa-4ef3-4da0-b14e-81fcd7d43299"
      },
      "outputs": [],
      "source": [
        "# Which one has the most null values?\n",
        "df.isnull().sum().sort_values(ascending=False)"
      ]
    },
    {
      "cell_type": "code",
      "execution_count": null,
      "metadata": {
        "id": "yH8XhV4gISWr"
      },
      "outputs": [],
      "source": [
        "# A function for an interpretable visualization of nulls\n",
        "def detect_nulls(df, n=30):\n",
        "    \"\"\"\n",
        "    A function for viewing the null values present in the dataset\n",
        "    input: takes in a dataframe and the n for the n most empty columns\n",
        "    output: a dataframe with the count and precentage of nulls\n",
        "    \"\"\"\n",
        "    df_nulls = df.isnull().sum()\n",
        "    df_nulls = pd.DataFrame(np.c_[df_nulls, np.round(df_nulls/len(df) *100, 2)],\n",
        "                                    columns=['count', 'percentage'], index = df_nulls.index)\n",
        "    df_nulls.sort_values(by = df_nulls.columns[0], ascending=False, inplace = True)\n",
        "\n",
        "    df_nulls = df_nulls.loc[[i for i in df_nulls.index if (df_nulls.loc[i, :] != 0).any() & (i not in ['SalePrice'])]]\n",
        "\n",
        "    print('How many features had at least one null value?', len(df_nulls))\n",
        "    print('{} most empty features of all:'.format(df_nulls.index[0]))\n",
        "    return df_nulls[:n]"
      ]
    },
    {
      "cell_type": "code",
      "execution_count": null,
      "metadata": {
        "colab": {
          "base_uri": "https://localhost:8080/",
          "height": 682
        },
        "id": "XO73UX0Rht60",
        "outputId": "62b87733-603b-4a1b-878b-d88728fb7bbc"
      },
      "outputs": [],
      "source": [
        "detect_nulls(df, n=40)"
      ]
    },
    {
      "cell_type": "code",
      "execution_count": null,
      "metadata": {
        "colab": {
          "base_uri": "https://localhost:8080/",
          "height": 443
        },
        "id": "W5ZbC9RumagF",
        "outputId": "7cb98592-5ca0-4490-e428-6584ebeea8f8"
      },
      "outputs": [],
      "source": [
        "df"
      ]
    },
    {
      "cell_type": "code",
      "execution_count": null,
      "metadata": {
        "id": "KRxXscf5lukl"
      },
      "outputs": [],
      "source": [
        "# fill the null values in PoolQC and MiscFeature with None\n",
        "df[\"PoolQC\"] = df[\"PoolQC\"].fillna(\"None\")"
      ]
    },
    {
      "cell_type": "code",
      "execution_count": null,
      "metadata": {
        "id": "P82Yi6yOISVA"
      },
      "outputs": [],
      "source": [
        "# Write a for loop to fill the nulls values in\n",
        "# 'MiscFeature', 'Fence', 'Alley', 'FireplaceQu'\n",
        "# with None\n",
        "for col in ('MiscFeature', 'Fence', 'Alley', 'FireplaceQu'):\n",
        "    df[col] = df[col].fillna(\"None\")\n"
      ]
    },
    {
      "cell_type": "code",
      "execution_count": null,
      "metadata": {
        "id": "_mivtPkFqU51"
      },
      "outputs": [],
      "source": []
    },
    {
      "cell_type": "markdown",
      "metadata": {
        "id": "6DAE9GEBm6y0"
      },
      "source": [
        "### Stripplot\n",
        "\n",
        "x='category_column' specifies the categorical variable to be plotted on the x-axis. This is typically a column containing category labels.\n",
        "y='numeric_column' specifies the numeric variable to be plotted on the y-axis. This is the data you want to visualize within each category.\n",
        "data=data specifies the DataFrame containing your data.\n",
        "\n",
        "### features to inspect -> 'PoolQC', 'MiscFeature', 'Alley'\n"
      ]
    },
    {
      "cell_type": "code",
      "execution_count": null,
      "metadata": {
        "colab": {
          "base_uri": "https://localhost:8080/",
          "height": 465
        },
        "id": "f2mfLi5clflv",
        "outputId": "9439a2d6-94c1-4614-f61a-933d208e11e3"
      },
      "outputs": [],
      "source": [
        "# create a seaborn plot for the number of nulls\n",
        "fig, ax = plt.subplots(figsize=(10, 5))\n",
        "ax = sns.stripplot(x='PoolQC', y=\"SalePrice\", data=df,\n",
        "                    order=[\"None\", \"Fa\", \"Gd\", \"Ex\"], size = 8)"
      ]
    },
    {
      "cell_type": "code",
      "execution_count": null,
      "metadata": {
        "colab": {
          "base_uri": "https://localhost:8080/",
          "height": 465
        },
        "id": "LUafJbKCISTO",
        "outputId": "c8fe921f-6003-41b9-df24-dfa75550869f"
      },
      "outputs": [],
      "source": [
        "# create a seaborn plot for the number of nulls\n",
        "fig, ax = plt.subplots(figsize=(10, 5))\n",
        "ax = sns.stripplot(x='MiscFeature', y=\"SalePrice\", data=df, size = 8)"
      ]
    },
    {
      "cell_type": "code",
      "execution_count": null,
      "metadata": {
        "id": "Gk36PfZgm5mQ"
      },
      "outputs": [],
      "source": [
        "# Write a for loop to fill the nulls values in\n",
        "# 'GarageType', 'GarageFinish', 'GarageQual', 'GarageCond'\n",
        "# with None\n",
        "for col in ('GarageType', 'GarageFinish', 'GarageQual', 'GarageCond'):\n",
        "    df[col] = df[col].fillna('None')"
      ]
    },
    {
      "cell_type": "code",
      "execution_count": null,
      "metadata": {
        "id": "gAn-1YAClzm8"
      },
      "outputs": [],
      "source": [
        "# some have to be filled with zero\n",
        "# 'BsmtFinSF1', 'BsmtFinSF2', 'BsmtUnfSF','TotalBsmtSF', 'BsmtFullBath', 'BsmtHalfBath'\n",
        "for col in ('BsmtFinSF1', 'BsmtFinSF2', 'BsmtUnfSF','TotalBsmtSF', 'BsmtFullBath', 'BsmtHalfBath'):\n",
        "    df[col] = df[col].fillna(0)"
      ]
    },
    {
      "cell_type": "code",
      "execution_count": null,
      "metadata": {
        "id": "R4I0gNpZmUgc"
      },
      "outputs": [],
      "source": [
        "# what should be done for MSZoning (The general zoning classification)?\n"
      ]
    },
    {
      "cell_type": "code",
      "execution_count": null,
      "metadata": {
        "colab": {
          "base_uri": "https://localhost:8080/",
          "height": 472
        },
        "id": "ls-tniPqnfXE",
        "outputId": "ea1ec913-6e4e-4f53-b7cd-f5884b2e04a2"
      },
      "outputs": [],
      "source": [
        "# let's plot the distribution\n",
        "\n",
        "# Create a count plot\n",
        "sns.countplot(data=df, x='MSZoning')\n",
        "\n",
        "# Optional: Customize the plot\n",
        "plt.title('Distribution of MSZoning')\n",
        "plt.xlabel('Categories')\n",
        "plt.ylabel('Count')\n",
        "\n",
        "# Show the plot\n",
        "plt.show()\n"
      ]
    },
    {
      "cell_type": "code",
      "execution_count": null,
      "metadata": {
        "colab": {
          "base_uri": "https://localhost:8080/",
          "height": 36
        },
        "id": "IjeMuZBKn3ms",
        "outputId": "d0c1ebd1-1cac-403c-9f38-ab8e12e0f578"
      },
      "outputs": [],
      "source": [
        "# take a look at the most frequent value\n",
        "df['MSZoning'].mode()[0]"
      ]
    },
    {
      "cell_type": "code",
      "execution_count": null,
      "metadata": {
        "id": "VzvXDJnJpx8l"
      },
      "outputs": [],
      "source": [
        "df['MSZoning'] = df['MSZoning'].fillna(df['MSZoning'].mode()[0])"
      ]
    },
    {
      "cell_type": "code",
      "execution_count": null,
      "metadata": {
        "id": "XzCNDCUqpsRC"
      },
      "outputs": [],
      "source": []
    },
    {
      "cell_type": "code",
      "execution_count": null,
      "metadata": {
        "id": "i3z9-toAlL-A"
      },
      "outputs": [],
      "source": [
        "# so how to drop a column?\n",
        "df.drop(columns=['PoolQC'], inplace=True)"
      ]
    },
    {
      "cell_type": "code",
      "execution_count": null,
      "metadata": {
        "colab": {
          "base_uri": "https://localhost:8080/"
        },
        "id": "FP3xFVfplL7J",
        "outputId": "8d02c82b-8853-493d-93a6-27b46e5c866b"
      },
      "outputs": [],
      "source": [
        "# look at the Electrical column and see what can be done\n",
        "df.Electrical.describe()"
      ]
    },
    {
      "cell_type": "code",
      "execution_count": null,
      "metadata": {
        "colab": {
          "base_uri": "https://localhost:8080/"
        },
        "id": "K4JSHB4cfUJA",
        "outputId": "40d4c7e2-2790-4037-ebae-afcfab48e8c7"
      },
      "outputs": [],
      "source": [
        "# see the values in this column\n",
        "df.Electrical.unique()"
      ]
    },
    {
      "cell_type": "code",
      "execution_count": null,
      "metadata": {
        "id": "_57Kc9ShfzM-"
      },
      "outputs": [],
      "source": [
        "# drop the record with null in it\n",
        "df.dropna(subset=['Electrical'], inplace=True)"
      ]
    },
    {
      "cell_type": "code",
      "execution_count": null,
      "metadata": {
        "colab": {
          "base_uri": "https://localhost:8080/"
        },
        "id": "yBdc8WxZDEYN",
        "outputId": "faffac76-0bb2-4808-d9a6-f65bf8781731"
      },
      "outputs": [],
      "source": [
        "# check and see if we have dropped it correctly\n",
        "df.Electrical.isna().sum()"
      ]
    },
    {
      "cell_type": "markdown",
      "metadata": {
        "id": "vwQdd_HNBIWI"
      },
      "source": [
        "### Your Turn"
      ]
    },
    {
      "cell_type": "code",
      "execution_count": null,
      "metadata": {
        "colab": {
          "base_uri": "https://localhost:8080/"
        },
        "id": "6oB_jrVgfzKQ",
        "outputId": "21368f34-dd44-4bd1-b8e3-1776b644cdb4"
      },
      "outputs": [],
      "source": [
        "# Check which columns have null?\n"
      ]
    },
    {
      "cell_type": "code",
      "execution_count": null,
      "metadata": {
        "id": "iJidzOEkfzHX"
      },
      "outputs": [],
      "source": [
        "# Drop the record that doesn't have Released_Year\n"
      ]
    },
    {
      "cell_type": "code",
      "execution_count": null,
      "metadata": {
        "colab": {
          "base_uri": "https://localhost:8080/"
        },
        "id": "t7h7zXnFfzF2",
        "outputId": "6151c92d-6350-490f-a155-1c3abab08ee8"
      },
      "outputs": [],
      "source": [
        "# Inspect Meta_score using .describe()\n"
      ]
    },
    {
      "cell_type": "code",
      "execution_count": null,
      "metadata": {
        "id": "D8Lw7NR_fzDQ"
      },
      "outputs": [],
      "source": [
        "# Fill it with the mean value\n"
      ]
    },
    {
      "cell_type": "code",
      "execution_count": null,
      "metadata": {
        "colab": {
          "base_uri": "https://localhost:8080/"
        },
        "id": "O-TkPbjbfzBk",
        "outputId": "fd060f1d-ab13-4822-e0db-98edaa4a64a3"
      },
      "outputs": [],
      "source": [
        "# See if we have any null values\n"
      ]
    },
    {
      "cell_type": "markdown",
      "metadata": {
        "id": "bGuXyafOELsx"
      },
      "source": [
        "### Reference\n",
        "\n",
        "* Brandon Rhodes - Pandas From The Ground Up - PyCon 2015: [link](https://www.youtube.com/watch?v=5JnMutdy6Fw&list=PL2vN4d3B5vi5gCdw4I-RAJonYAhH7k8bp&ab_channel=PyCon2015)\n",
        "* Missing values – Mitra’s Kaggle Tutorial: [link](https://www.kaggle.com/code/mitramir5/missing-values-ordinal-data-and-stories)\n",
        "* Crash Course Statistics: [link](https://www.youtube.com/watch?v=zouPoc49xbk&list=PL8dPuuaLjXtNM_Y-bUAhblSAdWRnmBUcr&ab_channel=CrashCourse)\n"
      ]
    }
  ],
  "metadata": {
    "colab": {
      "provenance": []
    },
    "kernelspec": {
      "display_name": "Python 3",
      "name": "python3"
    },
    "language_info": {
      "codemirror_mode": {
        "name": "ipython",
        "version": 3
      },
      "file_extension": ".py",
      "mimetype": "text/x-python",
      "name": "python",
      "nbconvert_exporter": "python",
      "pygments_lexer": "ipython3",
      "version": "3.9.7"
    }
  },
  "nbformat": 4,
  "nbformat_minor": 0
}
